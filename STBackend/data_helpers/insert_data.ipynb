{
 "cells": [
  {
   "cell_type": "code",
   "execution_count": null,
   "id": "e5a8b379",
   "metadata": {},
   "outputs": [],
   "source": [
    "import os\n",
    "from dotenv import load_dotenv\n",
    "\n",
    "load_dotenv()\n",
    "DATABASE_URL = os.getenv(\"DATABASE_URL\")"
   ]
  },
  {
   "cell_type": "code",
   "execution_count": null,
   "id": "b7a8a8a4",
   "metadata": {},
   "outputs": [],
   "source": [
    "import csv\n",
    "import psycopg2 as pg2\n",
    "\n",
    "def bulkInsert(table, dataFilepath):\n",
    "    with open(dataFilepath, newline='', encoding='utf-8') as csvfile:\n",
    "        reader = csv.DictReader(csvfile)\n",
    "        cols = reader.fieldnames\n",
    "        \n",
    "        query = f\"\"\"\n",
    "            INSERT INTO {table} ({\", \".join(cols)})\n",
    "            VALUES ({\", \".join([\"%s\"] * len(cols))});\n",
    "        \"\"\"\n",
    "        \n",
    "        paramsList = [tuple(row[col] for col in cols) for row in reader]\n",
    "\n",
    "    with pg2.connect(DATABASE_URL) as conn:\n",
    "        with conn.cursor() as cur:\n",
    "            cur.executemany(query, paramsList)\n",
    "        conn.commit()\n"
   ]
  }
 ],
 "metadata": {
  "language_info": {
   "name": "python"
  }
 },
 "nbformat": 4,
 "nbformat_minor": 5
}
